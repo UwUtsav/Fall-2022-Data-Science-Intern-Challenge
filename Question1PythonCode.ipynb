{
  "nbformat": 4,
  "nbformat_minor": 0,
  "metadata": {
    "colab": {
      "name": "Question1PythonCode.ipynb",
      "provenance": [],
      "collapsed_sections": []
    },
    "kernelspec": {
      "name": "python3",
      "display_name": "Python 3"
    },
    "language_info": {
      "name": "python"
    }
  },
  "cells": [
    {
      "cell_type": "code",
      "execution_count": 35,
      "metadata": {
        "id": "KY5hPsERfmiW"
      },
      "outputs": [],
      "source": [
        "import pandas as pd\n",
        "import seaborn as sns\n",
        "from scipy import stats\n",
        "import numpy as np\n",
        "import matplotlib.pyplot as plt\n"
      ]
    },
    {
      "cell_type": "code",
      "source": [
        "data = pd.read_csv('/content/2019 Winter Data Science Intern Challenge Data Set - Sheet1.csv')"
      ],
      "metadata": {
        "id": "np1xl4zOftHt"
      },
      "execution_count": 36,
      "outputs": []
    },
    {
      "cell_type": "code",
      "source": [
        "data.head()"
      ],
      "metadata": {
        "colab": {
          "base_uri": "https://localhost:8080/",
          "height": 206
        },
        "id": "212Pq6fRf-UF",
        "outputId": "4aa36fc9-3544-4f9f-cfec-bc5ac231ca0e"
      },
      "execution_count": 37,
      "outputs": [
        {
          "output_type": "execute_result",
          "data": {
            "text/plain": [
              "   order_id  shop_id  user_id  order_amount  total_items payment_method  \\\n",
              "0         1       53      746           224            2           cash   \n",
              "1         2       92      925            90            1           cash   \n",
              "2         3       44      861           144            1           cash   \n",
              "3         4       18      935           156            1    credit_card   \n",
              "4         5       18      883           156            1    credit_card   \n",
              "\n",
              "            created_at  \n",
              "0  2017-03-13 12:36:56  \n",
              "1  2017-03-03 17:38:52  \n",
              "2   2017-03-14 4:23:56  \n",
              "3  2017-03-26 12:43:37  \n",
              "4   2017-03-01 4:35:11  "
            ],
            "text/html": [
              "\n",
              "  <div id=\"df-e9a6ea56-d8f4-4f7b-928a-f8f780167123\">\n",
              "    <div class=\"colab-df-container\">\n",
              "      <div>\n",
              "<style scoped>\n",
              "    .dataframe tbody tr th:only-of-type {\n",
              "        vertical-align: middle;\n",
              "    }\n",
              "\n",
              "    .dataframe tbody tr th {\n",
              "        vertical-align: top;\n",
              "    }\n",
              "\n",
              "    .dataframe thead th {\n",
              "        text-align: right;\n",
              "    }\n",
              "</style>\n",
              "<table border=\"1\" class=\"dataframe\">\n",
              "  <thead>\n",
              "    <tr style=\"text-align: right;\">\n",
              "      <th></th>\n",
              "      <th>order_id</th>\n",
              "      <th>shop_id</th>\n",
              "      <th>user_id</th>\n",
              "      <th>order_amount</th>\n",
              "      <th>total_items</th>\n",
              "      <th>payment_method</th>\n",
              "      <th>created_at</th>\n",
              "    </tr>\n",
              "  </thead>\n",
              "  <tbody>\n",
              "    <tr>\n",
              "      <th>0</th>\n",
              "      <td>1</td>\n",
              "      <td>53</td>\n",
              "      <td>746</td>\n",
              "      <td>224</td>\n",
              "      <td>2</td>\n",
              "      <td>cash</td>\n",
              "      <td>2017-03-13 12:36:56</td>\n",
              "    </tr>\n",
              "    <tr>\n",
              "      <th>1</th>\n",
              "      <td>2</td>\n",
              "      <td>92</td>\n",
              "      <td>925</td>\n",
              "      <td>90</td>\n",
              "      <td>1</td>\n",
              "      <td>cash</td>\n",
              "      <td>2017-03-03 17:38:52</td>\n",
              "    </tr>\n",
              "    <tr>\n",
              "      <th>2</th>\n",
              "      <td>3</td>\n",
              "      <td>44</td>\n",
              "      <td>861</td>\n",
              "      <td>144</td>\n",
              "      <td>1</td>\n",
              "      <td>cash</td>\n",
              "      <td>2017-03-14 4:23:56</td>\n",
              "    </tr>\n",
              "    <tr>\n",
              "      <th>3</th>\n",
              "      <td>4</td>\n",
              "      <td>18</td>\n",
              "      <td>935</td>\n",
              "      <td>156</td>\n",
              "      <td>1</td>\n",
              "      <td>credit_card</td>\n",
              "      <td>2017-03-26 12:43:37</td>\n",
              "    </tr>\n",
              "    <tr>\n",
              "      <th>4</th>\n",
              "      <td>5</td>\n",
              "      <td>18</td>\n",
              "      <td>883</td>\n",
              "      <td>156</td>\n",
              "      <td>1</td>\n",
              "      <td>credit_card</td>\n",
              "      <td>2017-03-01 4:35:11</td>\n",
              "    </tr>\n",
              "  </tbody>\n",
              "</table>\n",
              "</div>\n",
              "      <button class=\"colab-df-convert\" onclick=\"convertToInteractive('df-e9a6ea56-d8f4-4f7b-928a-f8f780167123')\"\n",
              "              title=\"Convert this dataframe to an interactive table.\"\n",
              "              style=\"display:none;\">\n",
              "        \n",
              "  <svg xmlns=\"http://www.w3.org/2000/svg\" height=\"24px\"viewBox=\"0 0 24 24\"\n",
              "       width=\"24px\">\n",
              "    <path d=\"M0 0h24v24H0V0z\" fill=\"none\"/>\n",
              "    <path d=\"M18.56 5.44l.94 2.06.94-2.06 2.06-.94-2.06-.94-.94-2.06-.94 2.06-2.06.94zm-11 1L8.5 8.5l.94-2.06 2.06-.94-2.06-.94L8.5 2.5l-.94 2.06-2.06.94zm10 10l.94 2.06.94-2.06 2.06-.94-2.06-.94-.94-2.06-.94 2.06-2.06.94z\"/><path d=\"M17.41 7.96l-1.37-1.37c-.4-.4-.92-.59-1.43-.59-.52 0-1.04.2-1.43.59L10.3 9.45l-7.72 7.72c-.78.78-.78 2.05 0 2.83L4 21.41c.39.39.9.59 1.41.59.51 0 1.02-.2 1.41-.59l7.78-7.78 2.81-2.81c.8-.78.8-2.07 0-2.86zM5.41 20L4 18.59l7.72-7.72 1.47 1.35L5.41 20z\"/>\n",
              "  </svg>\n",
              "      </button>\n",
              "      \n",
              "  <style>\n",
              "    .colab-df-container {\n",
              "      display:flex;\n",
              "      flex-wrap:wrap;\n",
              "      gap: 12px;\n",
              "    }\n",
              "\n",
              "    .colab-df-convert {\n",
              "      background-color: #E8F0FE;\n",
              "      border: none;\n",
              "      border-radius: 50%;\n",
              "      cursor: pointer;\n",
              "      display: none;\n",
              "      fill: #1967D2;\n",
              "      height: 32px;\n",
              "      padding: 0 0 0 0;\n",
              "      width: 32px;\n",
              "    }\n",
              "\n",
              "    .colab-df-convert:hover {\n",
              "      background-color: #E2EBFA;\n",
              "      box-shadow: 0px 1px 2px rgba(60, 64, 67, 0.3), 0px 1px 3px 1px rgba(60, 64, 67, 0.15);\n",
              "      fill: #174EA6;\n",
              "    }\n",
              "\n",
              "    [theme=dark] .colab-df-convert {\n",
              "      background-color: #3B4455;\n",
              "      fill: #D2E3FC;\n",
              "    }\n",
              "\n",
              "    [theme=dark] .colab-df-convert:hover {\n",
              "      background-color: #434B5C;\n",
              "      box-shadow: 0px 1px 3px 1px rgba(0, 0, 0, 0.15);\n",
              "      filter: drop-shadow(0px 1px 2px rgba(0, 0, 0, 0.3));\n",
              "      fill: #FFFFFF;\n",
              "    }\n",
              "  </style>\n",
              "\n",
              "      <script>\n",
              "        const buttonEl =\n",
              "          document.querySelector('#df-e9a6ea56-d8f4-4f7b-928a-f8f780167123 button.colab-df-convert');\n",
              "        buttonEl.style.display =\n",
              "          google.colab.kernel.accessAllowed ? 'block' : 'none';\n",
              "\n",
              "        async function convertToInteractive(key) {\n",
              "          const element = document.querySelector('#df-e9a6ea56-d8f4-4f7b-928a-f8f780167123');\n",
              "          const dataTable =\n",
              "            await google.colab.kernel.invokeFunction('convertToInteractive',\n",
              "                                                     [key], {});\n",
              "          if (!dataTable) return;\n",
              "\n",
              "          const docLinkHtml = 'Like what you see? Visit the ' +\n",
              "            '<a target=\"_blank\" href=https://colab.research.google.com/notebooks/data_table.ipynb>data table notebook</a>'\n",
              "            + ' to learn more about interactive tables.';\n",
              "          element.innerHTML = '';\n",
              "          dataTable['output_type'] = 'display_data';\n",
              "          await google.colab.output.renderOutput(dataTable, element);\n",
              "          const docLink = document.createElement('div');\n",
              "          docLink.innerHTML = docLinkHtml;\n",
              "          element.appendChild(docLink);\n",
              "        }\n",
              "      </script>\n",
              "    </div>\n",
              "  </div>\n",
              "  "
            ]
          },
          "metadata": {},
          "execution_count": 37
        }
      ]
    },
    {
      "cell_type": "code",
      "source": [
        "data.order_amount.describe()"
      ],
      "metadata": {
        "colab": {
          "base_uri": "https://localhost:8080/"
        },
        "id": "A41ENK7ygJ35",
        "outputId": "4bfb073b-eb20-4db9-fcb5-1ce1ef21e1f8"
      },
      "execution_count": 38,
      "outputs": [
        {
          "output_type": "execute_result",
          "data": {
            "text/plain": [
              "count      5000.000000\n",
              "mean       3145.128000\n",
              "std       41282.539349\n",
              "min          90.000000\n",
              "25%         163.000000\n",
              "50%         284.000000\n",
              "75%         390.000000\n",
              "max      704000.000000\n",
              "Name: order_amount, dtype: float64"
            ]
          },
          "metadata": {},
          "execution_count": 38
        }
      ]
    },
    {
      "cell_type": "markdown",
      "source": [
        "we can see above that the mean of the order_amount is 3145.12 which is the mentioned AOV calculated in the question. While calculting AOV we also need to take the total number of orders into account. The correct way to calculate AOV is \n",
        "AOV = Total revenue / Total number of orders"
      ],
      "metadata": {
        "id": "phLCITGws8v7"
      }
    },
    {
      "cell_type": "code",
      "source": [
        "df = data.groupby(['shop_id'])['order_amount','total_items'].sum()"
      ],
      "metadata": {
        "colab": {
          "base_uri": "https://localhost:8080/"
        },
        "id": "CWYNIHk21iIy",
        "outputId": "e9a86fff-cfcc-43f0-d95f-2d454ae0d66f"
      },
      "execution_count": 39,
      "outputs": [
        {
          "output_type": "stream",
          "name": "stderr",
          "text": [
            "/usr/local/lib/python3.7/dist-packages/ipykernel_launcher.py:1: FutureWarning: Indexing with multiple keys (implicitly converted to a tuple of keys) will be deprecated, use a list instead.\n",
            "  \"\"\"Entry point for launching an IPython kernel.\n"
          ]
        }
      ]
    },
    {
      "cell_type": "code",
      "source": [
        "df['ARPU'] = df['order_amount'] / df['total_items'] #This stores the ARPU for each shopid"
      ],
      "metadata": {
        "id": "Qqv5-0Gd9wdk"
      },
      "execution_count": 40,
      "outputs": []
    },
    {
      "cell_type": "code",
      "source": [
        "display(df)"
      ],
      "metadata": {
        "colab": {
          "base_uri": "https://localhost:8080/",
          "height": 455
        },
        "id": "w6S_U-Lp-By6",
        "outputId": "f523645f-9354-4e1b-8eaf-7bcc32c6f0e6"
      },
      "execution_count": 41,
      "outputs": [
        {
          "output_type": "display_data",
          "data": {
            "text/plain": [
              "         order_amount  total_items   ARPU\n",
              "shop_id                                  \n",
              "1               13588           86  158.0\n",
              "2                9588          102   94.0\n",
              "3               14652           99  148.0\n",
              "4               13184          103  128.0\n",
              "5               13064           92  142.0\n",
              "...               ...          ...    ...\n",
              "96              16830          110  153.0\n",
              "97              15552           96  162.0\n",
              "98              14231          107  133.0\n",
              "99              18330           94  195.0\n",
              "100              8547           77  111.0\n",
              "\n",
              "[100 rows x 3 columns]"
            ],
            "text/html": [
              "\n",
              "  <div id=\"df-1908f6eb-b533-46dd-854b-062e7a55e19e\">\n",
              "    <div class=\"colab-df-container\">\n",
              "      <div>\n",
              "<style scoped>\n",
              "    .dataframe tbody tr th:only-of-type {\n",
              "        vertical-align: middle;\n",
              "    }\n",
              "\n",
              "    .dataframe tbody tr th {\n",
              "        vertical-align: top;\n",
              "    }\n",
              "\n",
              "    .dataframe thead th {\n",
              "        text-align: right;\n",
              "    }\n",
              "</style>\n",
              "<table border=\"1\" class=\"dataframe\">\n",
              "  <thead>\n",
              "    <tr style=\"text-align: right;\">\n",
              "      <th></th>\n",
              "      <th>order_amount</th>\n",
              "      <th>total_items</th>\n",
              "      <th>ARPU</th>\n",
              "    </tr>\n",
              "    <tr>\n",
              "      <th>shop_id</th>\n",
              "      <th></th>\n",
              "      <th></th>\n",
              "      <th></th>\n",
              "    </tr>\n",
              "  </thead>\n",
              "  <tbody>\n",
              "    <tr>\n",
              "      <th>1</th>\n",
              "      <td>13588</td>\n",
              "      <td>86</td>\n",
              "      <td>158.0</td>\n",
              "    </tr>\n",
              "    <tr>\n",
              "      <th>2</th>\n",
              "      <td>9588</td>\n",
              "      <td>102</td>\n",
              "      <td>94.0</td>\n",
              "    </tr>\n",
              "    <tr>\n",
              "      <th>3</th>\n",
              "      <td>14652</td>\n",
              "      <td>99</td>\n",
              "      <td>148.0</td>\n",
              "    </tr>\n",
              "    <tr>\n",
              "      <th>4</th>\n",
              "      <td>13184</td>\n",
              "      <td>103</td>\n",
              "      <td>128.0</td>\n",
              "    </tr>\n",
              "    <tr>\n",
              "      <th>5</th>\n",
              "      <td>13064</td>\n",
              "      <td>92</td>\n",
              "      <td>142.0</td>\n",
              "    </tr>\n",
              "    <tr>\n",
              "      <th>...</th>\n",
              "      <td>...</td>\n",
              "      <td>...</td>\n",
              "      <td>...</td>\n",
              "    </tr>\n",
              "    <tr>\n",
              "      <th>96</th>\n",
              "      <td>16830</td>\n",
              "      <td>110</td>\n",
              "      <td>153.0</td>\n",
              "    </tr>\n",
              "    <tr>\n",
              "      <th>97</th>\n",
              "      <td>15552</td>\n",
              "      <td>96</td>\n",
              "      <td>162.0</td>\n",
              "    </tr>\n",
              "    <tr>\n",
              "      <th>98</th>\n",
              "      <td>14231</td>\n",
              "      <td>107</td>\n",
              "      <td>133.0</td>\n",
              "    </tr>\n",
              "    <tr>\n",
              "      <th>99</th>\n",
              "      <td>18330</td>\n",
              "      <td>94</td>\n",
              "      <td>195.0</td>\n",
              "    </tr>\n",
              "    <tr>\n",
              "      <th>100</th>\n",
              "      <td>8547</td>\n",
              "      <td>77</td>\n",
              "      <td>111.0</td>\n",
              "    </tr>\n",
              "  </tbody>\n",
              "</table>\n",
              "<p>100 rows × 3 columns</p>\n",
              "</div>\n",
              "      <button class=\"colab-df-convert\" onclick=\"convertToInteractive('df-1908f6eb-b533-46dd-854b-062e7a55e19e')\"\n",
              "              title=\"Convert this dataframe to an interactive table.\"\n",
              "              style=\"display:none;\">\n",
              "        \n",
              "  <svg xmlns=\"http://www.w3.org/2000/svg\" height=\"24px\"viewBox=\"0 0 24 24\"\n",
              "       width=\"24px\">\n",
              "    <path d=\"M0 0h24v24H0V0z\" fill=\"none\"/>\n",
              "    <path d=\"M18.56 5.44l.94 2.06.94-2.06 2.06-.94-2.06-.94-.94-2.06-.94 2.06-2.06.94zm-11 1L8.5 8.5l.94-2.06 2.06-.94-2.06-.94L8.5 2.5l-.94 2.06-2.06.94zm10 10l.94 2.06.94-2.06 2.06-.94-2.06-.94-.94-2.06-.94 2.06-2.06.94z\"/><path d=\"M17.41 7.96l-1.37-1.37c-.4-.4-.92-.59-1.43-.59-.52 0-1.04.2-1.43.59L10.3 9.45l-7.72 7.72c-.78.78-.78 2.05 0 2.83L4 21.41c.39.39.9.59 1.41.59.51 0 1.02-.2 1.41-.59l7.78-7.78 2.81-2.81c.8-.78.8-2.07 0-2.86zM5.41 20L4 18.59l7.72-7.72 1.47 1.35L5.41 20z\"/>\n",
              "  </svg>\n",
              "      </button>\n",
              "      \n",
              "  <style>\n",
              "    .colab-df-container {\n",
              "      display:flex;\n",
              "      flex-wrap:wrap;\n",
              "      gap: 12px;\n",
              "    }\n",
              "\n",
              "    .colab-df-convert {\n",
              "      background-color: #E8F0FE;\n",
              "      border: none;\n",
              "      border-radius: 50%;\n",
              "      cursor: pointer;\n",
              "      display: none;\n",
              "      fill: #1967D2;\n",
              "      height: 32px;\n",
              "      padding: 0 0 0 0;\n",
              "      width: 32px;\n",
              "    }\n",
              "\n",
              "    .colab-df-convert:hover {\n",
              "      background-color: #E2EBFA;\n",
              "      box-shadow: 0px 1px 2px rgba(60, 64, 67, 0.3), 0px 1px 3px 1px rgba(60, 64, 67, 0.15);\n",
              "      fill: #174EA6;\n",
              "    }\n",
              "\n",
              "    [theme=dark] .colab-df-convert {\n",
              "      background-color: #3B4455;\n",
              "      fill: #D2E3FC;\n",
              "    }\n",
              "\n",
              "    [theme=dark] .colab-df-convert:hover {\n",
              "      background-color: #434B5C;\n",
              "      box-shadow: 0px 1px 3px 1px rgba(0, 0, 0, 0.15);\n",
              "      filter: drop-shadow(0px 1px 2px rgba(0, 0, 0, 0.3));\n",
              "      fill: #FFFFFF;\n",
              "    }\n",
              "  </style>\n",
              "\n",
              "      <script>\n",
              "        const buttonEl =\n",
              "          document.querySelector('#df-1908f6eb-b533-46dd-854b-062e7a55e19e button.colab-df-convert');\n",
              "        buttonEl.style.display =\n",
              "          google.colab.kernel.accessAllowed ? 'block' : 'none';\n",
              "\n",
              "        async function convertToInteractive(key) {\n",
              "          const element = document.querySelector('#df-1908f6eb-b533-46dd-854b-062e7a55e19e');\n",
              "          const dataTable =\n",
              "            await google.colab.kernel.invokeFunction('convertToInteractive',\n",
              "                                                     [key], {});\n",
              "          if (!dataTable) return;\n",
              "\n",
              "          const docLinkHtml = 'Like what you see? Visit the ' +\n",
              "            '<a target=\"_blank\" href=https://colab.research.google.com/notebooks/data_table.ipynb>data table notebook</a>'\n",
              "            + ' to learn more about interactive tables.';\n",
              "          element.innerHTML = '';\n",
              "          dataTable['output_type'] = 'display_data';\n",
              "          await google.colab.output.renderOutput(dataTable, element);\n",
              "          const docLink = document.createElement('div');\n",
              "          docLink.innerHTML = docLinkHtml;\n",
              "          element.appendChild(docLink);\n",
              "        }\n",
              "      </script>\n",
              "    </div>\n",
              "  </div>\n",
              "  "
            ]
          },
          "metadata": {}
        }
      ]
    },
    {
      "cell_type": "code",
      "source": [
        "ax = sns.scatterplot(x = df.index, y = df.order_amount)"
      ],
      "metadata": {
        "colab": {
          "base_uri": "https://localhost:8080/",
          "height": 291
        },
        "id": "z_GXd5rWddvx",
        "outputId": "7abd32fd-fd68-4eb9-93bc-291f50e6e44d"
      },
      "execution_count": 42,
      "outputs": [
        {
          "output_type": "display_data",
          "data": {
            "text/plain": [
              "<Figure size 432x288 with 1 Axes>"
            ],
            "image/png": "[encoded data removed]"
          },
          "metadata": {
            "needs_background": "light"
          }
        }
      ]
    },
    {
      "cell_type": "markdown",
      "source": [
        "There are 2 really significant outliers. Its would cleary effect further analysis if ignored. Since the question mentions affordable shoes i will remove the shop ids with the significantly large revenues"
      ],
      "metadata": {
        "id": "qGLnyXyrdzIB"
      }
    },
    {
      "cell_type": "code",
      "source": [
        "z_score = np.abs(stats.zscore(df))"
      ],
      "metadata": {
        "id": "rwqpgRAkgDy6"
      },
      "execution_count": 43,
      "outputs": []
    },
    {
      "cell_type": "markdown",
      "source": [
        "We are caluclating the z-score for the table and dropping every any row that has a z-score above 3"
      ],
      "metadata": {
        "id": "G-pIwioNtd7U"
      }
    },
    {
      "cell_type": "code",
      "source": [
        "z_score"
      ],
      "metadata": {
        "colab": {
          "base_uri": "https://localhost:8080/"
        },
        "id": "TUPD59mbgQIO",
        "outputId": "9ffa2bea-c999-4fba-a4b9-b85fcdd9a8c0"
      },
      "execution_count": 44,
      "outputs": [
        {
          "output_type": "execute_result",
          "data": {
            "text/plain": [
              "array([[0.11872229, 0.10456475, 0.09824166],\n",
              "       [0.12202774, 0.0998301 , 0.12339253],\n",
              "       [0.11784304, 0.10071784, 0.10217148],\n",
              "       [0.11905614, 0.09953418, 0.11003113],\n",
              "       [0.1191553 , 0.10278925, 0.10452938],\n",
              "       [0.11125279, 0.0942077 , 0.08684517],\n",
              "       [0.11986267, 0.09775869, 0.11631885],\n",
              "       [0.1207882 , 0.10515658, 0.1084592 ],\n",
              "       [0.11854214, 0.09539136, 0.11396096],\n",
              "       [0.115397  , 0.09479953, 0.10217148],\n",
              "       [0.11550608, 0.10190151, 0.08802412],\n",
              "       [0.1145037 , 0.10249334, 0.08134342],\n",
              "       [0.11196925, 0.08976897, 0.0974557 ],\n",
              "       [0.11835208, 0.0942077 , 0.11474692],\n",
              "       [0.11667539, 0.09894235, 0.10020657],\n",
              "       [0.12079811, 0.10900348, 0.09902763],\n",
              "       [0.11540692, 0.10042193, 0.09116798],\n",
              "       [0.11551269, 0.09687094, 0.09902763],\n",
              "       [0.11297906, 0.09272812, 0.09627675],\n",
              "       [0.11914125, 0.09953418, 0.11042411],\n",
              "       [0.11821655, 0.10042193, 0.10452938],\n",
              "       [0.1190925 , 0.10338108, 0.10295745],\n",
              "       [0.11551269, 0.09687094, 0.09902763],\n",
              "       [0.11537386, 0.09272812, 0.10531534],\n",
              "       [0.12071217, 0.10456475, 0.10924517],\n",
              "       [0.11613412, 0.10190151, 0.09116798],\n",
              "       [0.11500778, 0.09835052, 0.09391885],\n",
              "       [0.11856693, 0.10515658, 0.09588377],\n",
              "       [0.11405664, 0.09509545, 0.09627675],\n",
              "       [0.11629608, 0.0980546 , 0.10020657],\n",
              "       [0.11950403, 0.10101376, 0.10963815],\n",
              "       [0.12335736, 0.10663616, 0.12064166],\n",
              "       [0.11751332, 0.10426883, 0.09234693],\n",
              "       [0.12027254, 0.10160559, 0.11238903],\n",
              "       [0.11585646, 0.09923827, 0.09588377],\n",
              "       [0.11942304, 0.10101376, 0.10924517],\n",
              "       [0.1164564 , 0.09598319, 0.10452938],\n",
              "       [0.11864626, 0.10870757, 0.08566623],\n",
              "       [0.12087083, 0.10574841, 0.10767324],\n",
              "       [0.118243  , 0.10397292, 0.09706271],\n",
              "       [0.11756703, 0.09243221, 0.11396096],\n",
              "       [9.77828998, 9.94976059, 0.02200308],\n",
              "       [0.11394673, 0.09835052, 0.08920307],\n",
              "       [0.12150217, 0.10900348, 0.10374341],\n",
              "       [0.11704312, 0.09746277, 0.10452938],\n",
              "       [0.11760504, 0.10338108, 0.0950978 ],\n",
              "       [0.11988581, 0.10515658, 0.10335043],\n",
              "       [0.1219261 , 0.10545249, 0.11435394],\n",
              "       [0.11769181, 0.09598319, 0.10963815],\n",
              "       [0.115278  , 0.10278925, 0.08448728],\n",
              "       [0.11619775, 0.103677  , 0.08684517],\n",
              "       [0.11921315, 0.103677  , 0.10295745],\n",
              "       [0.11791906, 0.09154446, 0.11631885],\n",
              "       [0.11852065, 0.09923827, 0.10806622],\n",
              "       [0.11695056, 0.10278925, 0.09313289],\n",
              "       [0.12327968, 0.10959531, 0.11435394],\n",
              "       [0.11695304, 0.09835052, 0.10256447],\n",
              "       [0.11752075, 0.09775869, 0.10610131],\n",
              "       [0.1121527 , 0.0942077 , 0.09038201],\n",
              "       [0.11634815, 0.10249334, 0.090775  ],\n",
              "       [0.11571928, 0.09775869, 0.09824166],\n",
              "       [0.11897681, 0.10545249, 0.0974557 ],\n",
              "       [0.11725136, 0.09657502, 0.10688727],\n",
              "       [0.12027916, 0.10397292, 0.10806622],\n",
              "       [0.11518876, 0.09568728, 0.09981359],\n",
              "       [0.11624733, 0.09953418, 0.09706271],\n",
              "       [0.12161538, 0.10722799, 0.10885218],\n",
              "       [0.120061  , 0.10397292, 0.10688727],\n",
              "       [0.11685223, 0.0942077 , 0.10885218],\n",
              "       [0.11322449, 0.09539136, 0.09234693],\n",
              "       [0.11233285, 0.09154446, 0.09588377],\n",
              "       [0.1181835 , 0.103677  , 0.0974557 ],\n",
              "       [0.11386162, 0.09509545, 0.09549078],\n",
              "       [0.12034196, 0.1075239 , 0.10020657],\n",
              "       [0.12159473, 0.10663616, 0.11003113],\n",
              "       [0.1188074 , 0.10426883, 0.09942061],\n",
              "       [0.11834877, 0.10338108, 0.09902763],\n",
              "       [1.74077023, 0.10397292, 9.94913841],\n",
              "       [0.11529288, 0.10101376, 0.08920307],\n",
              "       [0.1188074 , 0.10249334, 0.10335043],\n",
              "       [0.11122882, 0.09213629, 0.090775  ],\n",
              "       [0.11781081, 0.10545249, 0.090775  ],\n",
              "       [0.12131624, 0.10604432, 0.10963815],\n",
              "       [0.11326168, 0.09095263, 0.10020657],\n",
              "       [0.1204279 , 0.11018714, 0.09273991],\n",
              "       [0.11802649, 0.09716686, 0.10924517],\n",
              "       [0.11739184, 0.0998301 , 0.1017785 ],\n",
              "       [0.11526148, 0.10012601, 0.09116798],\n",
              "       [0.11083878, 0.09509545, 0.08330833],\n",
              "       [0.11362363, 0.09716686, 0.09038201],\n",
              "       [0.11540692, 0.09746277, 0.0974557 ],\n",
              "       [0.12429859, 0.1075239 , 0.12496446],\n",
              "       [0.11949411, 0.09716686, 0.11553288],\n",
              "       [0.11887764, 0.10042193, 0.10767324],\n",
              "       [0.11967756, 0.10811573, 0.09431184],\n",
              "       [0.11604322, 0.09746277, 0.10020657],\n",
              "       [0.11709931, 0.10160559, 0.09666973],\n",
              "       [0.11819094, 0.09835052, 0.10806622],\n",
              "       [0.11480367, 0.10219742, 0.08370131],\n",
              "       [0.12288798, 0.10722799, 0.11671183]])"
            ]
          },
          "metadata": {},
          "execution_count": 44
        }
      ]
    },
    {
      "cell_type": "code",
      "source": [
        "df = df[(z_score < 3).all(axis=1)]"
      ],
      "metadata": {
        "id": "vZ9yFlfbgWCl"
      },
      "execution_count": 45,
      "outputs": []
    },
    {
      "cell_type": "code",
      "source": [
        "df = pd.concat([df,data['shop_id'].value_counts() ], axis = 1)"
      ],
      "metadata": {
        "id": "v06zY448-KkH"
      },
      "execution_count": 46,
      "outputs": []
    },
    {
      "cell_type": "code",
      "source": [
        "df.columns = ['Total_revenue', 'Total_items', 'ARPU', 'Total_no_of_orders']\n",
        "df.index.names = ['shop_id']"
      ],
      "metadata": {
        "id": "zpiyccTsAqjd"
      },
      "execution_count": 47,
      "outputs": []
    },
    {
      "cell_type": "code",
      "source": [
        "df['AOV']  = df.Total_revenue/df.Total_no_of_orders #AOV for each shop id"
      ],
      "metadata": {
        "id": "ix9LhRo2a8Nl"
      },
      "execution_count": 48,
      "outputs": []
    },
    {
      "cell_type": "code",
      "source": [
        "display(df)"
      ],
      "metadata": {
        "colab": {
          "base_uri": "https://localhost:8080/",
          "height": 455
        },
        "id": "4B_O8kN-bNmx",
        "outputId": "bccd54ec-acf3-411e-eac3-69ab304a1439"
      },
      "execution_count": 49,
      "outputs": [
        {
          "output_type": "display_data",
          "data": {
            "text/plain": [
              "         Total_revenue  Total_items   ARPU  Total_no_of_orders         AOV\n",
              "shop_id                                                                   \n",
              "1              13588.0         86.0  158.0                  44  308.818182\n",
              "2               9588.0        102.0   94.0                  55  174.327273\n",
              "3              14652.0         99.0  148.0                  48  305.250000\n",
              "4              13184.0        103.0  128.0                  51  258.509804\n",
              "5              13064.0         92.0  142.0                  45  290.311111\n",
              "...                ...          ...    ...                 ...         ...\n",
              "96             16830.0        110.0  153.0                  51  330.000000\n",
              "97             15552.0         96.0  162.0                  48  324.000000\n",
              "98             14231.0        107.0  133.0                  58  245.362069\n",
              "99             18330.0         94.0  195.0                  54  339.444444\n",
              "100             8547.0         77.0  111.0                  40  213.675000\n",
              "\n",
              "[100 rows x 5 columns]"
            ],
            "text/html": [
              "\n",
              "  <div id=\"df-099e3cbc-ccc1-4e07-97f8-e4e6d21ee7cd\">\n",
              "    <div class=\"colab-df-container\">\n",
              "      <div>\n",
              "<style scoped>\n",
              "    .dataframe tbody tr th:only-of-type {\n",
              "        vertical-align: middle;\n",
              "    }\n",
              "\n",
              "    .dataframe tbody tr th {\n",
              "        vertical-align: top;\n",
              "    }\n",
              "\n",
              "    .dataframe thead th {\n",
              "        text-align: right;\n",
              "    }\n",
              "</style>\n",
              "<table border=\"1\" class=\"dataframe\">\n",
              "  <thead>\n",
              "    <tr style=\"text-align: right;\">\n",
              "      <th></th>\n",
              "      <th>Total_revenue</th>\n",
              "      <th>Total_items</th>\n",
              "      <th>ARPU</th>\n",
              "      <th>Total_no_of_orders</th>\n",
              "      <th>AOV</th>\n",
              "    </tr>\n",
              "    <tr>\n",
              "      <th>shop_id</th>\n",
              "      <th></th>\n",
              "      <th></th>\n",
              "      <th></th>\n",
              "      <th></th>\n",
              "      <th></th>\n",
              "    </tr>\n",
              "  </thead>\n",
              "  <tbody>\n",
              "    <tr>\n",
              "      <th>1</th>\n",
              "      <td>13588.0</td>\n",
              "      <td>86.0</td>\n",
              "      <td>158.0</td>\n",
              "      <td>44</td>\n",
              "      <td>308.818182</td>\n",
              "    </tr>\n",
              "    <tr>\n",
              "      <th>2</th>\n",
              "      <td>9588.0</td>\n",
              "      <td>102.0</td>\n",
              "      <td>94.0</td>\n",
              "      <td>55</td>\n",
              "      <td>174.327273</td>\n",
              "    </tr>\n",
              "    <tr>\n",
              "      <th>3</th>\n",
              "      <td>14652.0</td>\n",
              "      <td>99.0</td>\n",
              "      <td>148.0</td>\n",
              "      <td>48</td>\n",
              "      <td>305.250000</td>\n",
              "    </tr>\n",
              "    <tr>\n",
              "      <th>4</th>\n",
              "      <td>13184.0</td>\n",
              "      <td>103.0</td>\n",
              "      <td>128.0</td>\n",
              "      <td>51</td>\n",
              "      <td>258.509804</td>\n",
              "    </tr>\n",
              "    <tr>\n",
              "      <th>5</th>\n",
              "      <td>13064.0</td>\n",
              "      <td>92.0</td>\n",
              "      <td>142.0</td>\n",
              "      <td>45</td>\n",
              "      <td>290.311111</td>\n",
              "    </tr>\n",
              "    <tr>\n",
              "      <th>...</th>\n",
              "      <td>...</td>\n",
              "      <td>...</td>\n",
              "      <td>...</td>\n",
              "      <td>...</td>\n",
              "      <td>...</td>\n",
              "    </tr>\n",
              "    <tr>\n",
              "      <th>96</th>\n",
              "      <td>16830.0</td>\n",
              "      <td>110.0</td>\n",
              "      <td>153.0</td>\n",
              "      <td>51</td>\n",
              "      <td>330.000000</td>\n",
              "    </tr>\n",
              "    <tr>\n",
              "      <th>97</th>\n",
              "      <td>15552.0</td>\n",
              "      <td>96.0</td>\n",
              "      <td>162.0</td>\n",
              "      <td>48</td>\n",
              "      <td>324.000000</td>\n",
              "    </tr>\n",
              "    <tr>\n",
              "      <th>98</th>\n",
              "      <td>14231.0</td>\n",
              "      <td>107.0</td>\n",
              "      <td>133.0</td>\n",
              "      <td>58</td>\n",
              "      <td>245.362069</td>\n",
              "    </tr>\n",
              "    <tr>\n",
              "      <th>99</th>\n",
              "      <td>18330.0</td>\n",
              "      <td>94.0</td>\n",
              "      <td>195.0</td>\n",
              "      <td>54</td>\n",
              "      <td>339.444444</td>\n",
              "    </tr>\n",
              "    <tr>\n",
              "      <th>100</th>\n",
              "      <td>8547.0</td>\n",
              "      <td>77.0</td>\n",
              "      <td>111.0</td>\n",
              "      <td>40</td>\n",
              "      <td>213.675000</td>\n",
              "    </tr>\n",
              "  </tbody>\n",
              "</table>\n",
              "<p>100 rows × 5 columns</p>\n",
              "</div>\n",
              "      <button class=\"colab-df-convert\" onclick=\"convertToInteractive('df-099e3cbc-ccc1-4e07-97f8-e4e6d21ee7cd')\"\n",
              "              title=\"Convert this dataframe to an interactive table.\"\n",
              "              style=\"display:none;\">\n",
              "        \n",
              "  <svg xmlns=\"http://www.w3.org/2000/svg\" height=\"24px\"viewBox=\"0 0 24 24\"\n",
              "       width=\"24px\">\n",
              "    <path d=\"M0 0h24v24H0V0z\" fill=\"none\"/>\n",
              "    <path d=\"M18.56 5.44l.94 2.06.94-2.06 2.06-.94-2.06-.94-.94-2.06-.94 2.06-2.06.94zm-11 1L8.5 8.5l.94-2.06 2.06-.94-2.06-.94L8.5 2.5l-.94 2.06-2.06.94zm10 10l.94 2.06.94-2.06 2.06-.94-2.06-.94-.94-2.06-.94 2.06-2.06.94z\"/><path d=\"M17.41 7.96l-1.37-1.37c-.4-.4-.92-.59-1.43-.59-.52 0-1.04.2-1.43.59L10.3 9.45l-7.72 7.72c-.78.78-.78 2.05 0 2.83L4 21.41c.39.39.9.59 1.41.59.51 0 1.02-.2 1.41-.59l7.78-7.78 2.81-2.81c.8-.78.8-2.07 0-2.86zM5.41 20L4 18.59l7.72-7.72 1.47 1.35L5.41 20z\"/>\n",
              "  </svg>\n",
              "      </button>\n",
              "      \n",
              "  <style>\n",
              "    .colab-df-container {\n",
              "      display:flex;\n",
              "      flex-wrap:wrap;\n",
              "      gap: 12px;\n",
              "    }\n",
              "\n",
              "    .colab-df-convert {\n",
              "      background-color: #E8F0FE;\n",
              "      border: none;\n",
              "      border-radius: 50%;\n",
              "      cursor: pointer;\n",
              "      display: none;\n",
              "      fill: #1967D2;\n",
              "      height: 32px;\n",
              "      padding: 0 0 0 0;\n",
              "      width: 32px;\n",
              "    }\n",
              "\n",
              "    .colab-df-convert:hover {\n",
              "      background-color: #E2EBFA;\n",
              "      box-shadow: 0px 1px 2px rgba(60, 64, 67, 0.3), 0px 1px 3px 1px rgba(60, 64, 67, 0.15);\n",
              "      fill: #174EA6;\n",
              "    }\n",
              "\n",
              "    [theme=dark] .colab-df-convert {\n",
              "      background-color: #3B4455;\n",
              "      fill: #D2E3FC;\n",
              "    }\n",
              "\n",
              "    [theme=dark] .colab-df-convert:hover {\n",
              "      background-color: #434B5C;\n",
              "      box-shadow: 0px 1px 3px 1px rgba(0, 0, 0, 0.15);\n",
              "      filter: drop-shadow(0px 1px 2px rgba(0, 0, 0, 0.3));\n",
              "      fill: #FFFFFF;\n",
              "    }\n",
              "  </style>\n",
              "\n",
              "      <script>\n",
              "        const buttonEl =\n",
              "          document.querySelector('#df-099e3cbc-ccc1-4e07-97f8-e4e6d21ee7cd button.colab-df-convert');\n",
              "        buttonEl.style.display =\n",
              "          google.colab.kernel.accessAllowed ? 'block' : 'none';\n",
              "\n",
              "        async function convertToInteractive(key) {\n",
              "          const element = document.querySelector('#df-099e3cbc-ccc1-4e07-97f8-e4e6d21ee7cd');\n",
              "          const dataTable =\n",
              "            await google.colab.kernel.invokeFunction('convertToInteractive',\n",
              "                                                     [key], {});\n",
              "          if (!dataTable) return;\n",
              "\n",
              "          const docLinkHtml = 'Like what you see? Visit the ' +\n",
              "            '<a target=\"_blank\" href=https://colab.research.google.com/notebooks/data_table.ipynb>data table notebook</a>'\n",
              "            + ' to learn more about interactive tables.';\n",
              "          element.innerHTML = '';\n",
              "          dataTable['output_type'] = 'display_data';\n",
              "          await google.colab.output.renderOutput(dataTable, element);\n",
              "          const docLink = document.createElement('div');\n",
              "          docLink.innerHTML = docLinkHtml;\n",
              "          element.appendChild(docLink);\n",
              "        }\n",
              "      </script>\n",
              "    </div>\n",
              "  </div>\n",
              "  "
            ]
          },
          "metadata": {}
        }
      ]
    },
    {
      "cell_type": "code",
      "source": [
        "print('Mean AOV:', df.AOV.mean())\n",
        "print('Mean ARPU for all shops:', df.ARPU.mean())"
      ],
      "metadata": {
        "colab": {
          "base_uri": "https://localhost:8080/"
        },
        "id": "2IcZlq-ueSsI",
        "outputId": "72bc1eab-a0b4-453a-ab81-ec6ed3b3eb0a"
      },
      "execution_count": 50,
      "outputs": [
        {
          "output_type": "stream",
          "name": "stdout",
          "text": [
            "Mean AOV: 299.68239912615485\n",
            "Mean ARPU for all shops: 150.22448979591837\n"
          ]
        }
      ]
    },
    {
      "cell_type": "code",
      "source": [
        "plt.figure(figsize=(30,5))\n",
        "ax = sns.barplot(x = df.index, y = df.ARPU)\n",
        "\n",
        "plt.show()"
      ],
      "metadata": {
        "colab": {
          "base_uri": "https://localhost:8080/",
          "height": 196
        },
        "id": "6E1hhIqJoF1B",
        "outputId": "f57231d3-43c3-4dc4-db3f-ac093bf25c6b"
      },
      "execution_count": 51,
      "outputs": [
        {
          "output_type": "display_data",
          "data": {
            "text/plain": [
              "<Figure size 2160x360 with 1 Axes>"
            ],
            "image/png": "[encoded data removed]"
          },
          "metadata": {
            "needs_background": "light"
          }
        }
      ]
    }
  ]
}